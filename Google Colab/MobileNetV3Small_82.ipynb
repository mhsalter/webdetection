{
  "nbformat": 4,
  "nbformat_minor": 0,
  "metadata": {
    "colab": {
      "provenance": [],
      "gpuType": "T4",
      "machine_shape": "hm",
      "toc_visible": true
    },
    "kernelspec": {
      "name": "python3",
      "display_name": "Python 3"
    },
    "language_info": {
      "name": "python"
    },
    "accelerator": "GPU"
  },
  "cells": [
    {
      "cell_type": "code",
      "execution_count": null,
      "metadata": {
        "colab": {
          "base_uri": "https://localhost:8080/"
        },
        "id": "jStR4029ejzv",
        "outputId": "471ff2b1-2968-4229-df46-118a9464c982"
      },
      "outputs": [
        {
          "output_type": "stream",
          "name": "stdout",
          "text": [
            "Mounted at /content/drive\n"
          ]
        }
      ],
      "source": [
        "# Run this cell if u can't mount ur drive automatically\n",
        "\n",
        "from google.colab import drive\n",
        "drive.mount('/content/drive')"
      ]
    },
    {
      "cell_type": "markdown",
      "source": [
        "# Library"
      ],
      "metadata": {
        "id": "IZclEJI5enju"
      }
    },
    {
      "cell_type": "code",
      "source": [
        "# Dataset\n",
        "import os\n",
        "from os import makedirs, listdir\n",
        "import shutil\n",
        "import numpy as np\n",
        "\n",
        "# Preprocessing\n",
        "from PIL import Image\n",
        "from collections import defaultdict\n",
        "import matplotlib.pyplot as plt\n",
        "import seaborn as sns\n",
        "from IPython.display import SVG\n",
        "\n",
        "from sklearn.model_selection import train_test_split\n",
        "from sklearn.metrics import confusion_matrix, ConfusionMatrixDisplay, classification_report\n",
        "from sklearn.utils.class_weight import compute_class_weight\n",
        "\n",
        "#Model\n",
        "import tensorflow as tf\n",
        "from tensorflow.keras.optimizers import Adam,AdamW\n",
        "from tensorflow.keras.callbacks import LearningRateScheduler\n",
        "from tensorflow.keras.utils import load_img, img_to_array\n",
        "from tensorflow.keras.preprocessing.image import ImageDataGenerator"
      ],
      "metadata": {
        "id": "kSUWHc0PepRC"
      },
      "execution_count": null,
      "outputs": []
    },
    {
      "cell_type": "code",
      "source": [
        "from datetime import datetime\n",
        "\n",
        "now = datetime.now().strftime(\"%Y-%m-%d_%H-%M-%S\")\n",
        "\n",
        "now"
      ],
      "metadata": {
        "colab": {
          "base_uri": "https://localhost:8080/",
          "height": 35
        },
        "id": "R5dc1TU6H0MU",
        "outputId": "4aee9b44-ef3d-4e95-9909-41c3645b5c0d"
      },
      "execution_count": null,
      "outputs": [
        {
          "output_type": "execute_result",
          "data": {
            "text/plain": [
              "'2024-07-17_02-03-29'"
            ],
            "application/vnd.google.colaboratory.intrinsic+json": {
              "type": "string"
            }
          },
          "metadata": {},
          "execution_count": 3
        }
      ]
    },
    {
      "cell_type": "markdown",
      "source": [
        "# Dataset"
      ],
      "metadata": {
        "id": "2BvwNwEuethk"
      }
    },
    {
      "cell_type": "code",
      "source": [
        "train_dir = \"/content/drive/MyDrive/Mahesa/Datasets/Train\"\n",
        "test_dir = \"/content/drive/MyDrive/Mahesa/Datasets/Test\"\n",
        "\n",
        "BATCH_SIZE = 32\n",
        "IMG_SIZE = (224, 224)"
      ],
      "metadata": {
        "id": "in4H-6KFeun1"
      },
      "execution_count": null,
      "outputs": []
    },
    {
      "cell_type": "code",
      "source": [
        "train_split = 0.8  # Proportion for training data (remaining 0.1 for validation)\n",
        "val_split = 0.2  # Proportion for validation data\n",
        "\n",
        "train_dataset = tf.keras.utils.image_dataset_from_directory(\n",
        "    train_dir,\n",
        "    shuffle=True,\n",
        "    batch_size=BATCH_SIZE,\n",
        "    image_size=IMG_SIZE,\n",
        "    validation_split=val_split,\n",
        "    subset=\"training\",\n",
        "    seed=2  # Optional seed for reproducibility\n",
        ")\n",
        "\n",
        "val_dataset = tf.keras.utils.image_dataset_from_directory(\n",
        "    train_dir,\n",
        "    shuffle=True,  # Can shuffle validation data for some cases\n",
        "    batch_size=BATCH_SIZE,\n",
        "    image_size=IMG_SIZE,\n",
        "    validation_split=val_split,\n",
        "    subset=\"validation\",\n",
        "    seed=3  # Optional seed for reproducibility\n",
        ")"
      ],
      "metadata": {
        "colab": {
          "base_uri": "https://localhost:8080/"
        },
        "id": "SFsC9485exrM",
        "outputId": "a5352cd0-0a88-4bf7-d32a-faddbb00d1ac"
      },
      "execution_count": null,
      "outputs": [
        {
          "output_type": "stream",
          "name": "stdout",
          "text": [
            "Found 1440 files belonging to 9 classes.\n",
            "Using 1152 files for training.\n",
            "Found 1440 files belonging to 9 classes.\n",
            "Using 288 files for validation.\n"
          ]
        }
      ]
    },
    {
      "cell_type": "code",
      "source": [
        "test_dataset = tf.keras.utils.image_dataset_from_directory(test_dir,\n",
        "                                                           shuffle=True,\n",
        "                                                           batch_size=BATCH_SIZE,\n",
        "                                                           image_size=IMG_SIZE)"
      ],
      "metadata": {
        "colab": {
          "base_uri": "https://localhost:8080/"
        },
        "id": "Pt7lrAyEe0jq",
        "outputId": "654e58e1-13fd-4734-ca90-9dba9f1662ba"
      },
      "execution_count": null,
      "outputs": [
        {
          "output_type": "stream",
          "name": "stdout",
          "text": [
            "Found 360 files belonging to 9 classes.\n"
          ]
        }
      ]
    },
    {
      "cell_type": "markdown",
      "source": [
        "# Preprocess"
      ],
      "metadata": {
        "id": "-BrPThVWe2_G"
      }
    },
    {
      "cell_type": "code",
      "source": [
        "data_preprocess = tf.keras.Sequential([\n",
        "  tf.keras.layers.RandomFlip('horizontal'),\n",
        "  tf.keras.layers.RandomFlip('vertical'),\n",
        "  tf.keras.layers.RandomRotation(0.3),\n",
        "])"
      ],
      "metadata": {
        "id": "aWG9H4Ame4aO"
      },
      "execution_count": null,
      "outputs": []
    },
    {
      "cell_type": "code",
      "source": [
        "IMG_SHAPE = IMG_SIZE + (3,)\n",
        "base_learning_rate = 0.0001\n",
        "initial_epochs = 10"
      ],
      "metadata": {
        "id": "lJ78oJ6DfBO-"
      },
      "execution_count": null,
      "outputs": []
    },
    {
      "cell_type": "code",
      "source": [
        "early_stopping = tf.keras.callbacks.EarlyStopping(\n",
        "    monitor='val_loss',\n",
        "    min_delta=0,\n",
        "    patience=3,\n",
        "    verbose=1,\n",
        "    mode='auto',\n",
        "    baseline=None,\n",
        "    restore_best_weights=False,\n",
        "    start_from_epoch=0\n",
        ")"
      ],
      "metadata": {
        "id": "xKNKw5NFe_oD"
      },
      "execution_count": null,
      "outputs": []
    },
    {
      "cell_type": "markdown",
      "source": [
        "# Training"
      ],
      "metadata": {
        "id": "KfXmPj0ce6vD"
      }
    },
    {
      "cell_type": "markdown",
      "source": [
        "## Pre Trained"
      ],
      "metadata": {
        "id": "6TI7Pi3kfYtr"
      }
    },
    {
      "cell_type": "code",
      "source": [
        "MobileNetV3Small = tf.keras.applications.MobileNetV3Small(\n",
        "    input_shape=IMG_SHAPE,\n",
        "    alpha=1.0,\n",
        "    minimalistic=False,\n",
        "    include_top=False,\n",
        "    weights='imagenet',\n",
        "    input_tensor=None,\n",
        "    classes=1000,\n",
        "    pooling=None,\n",
        "    dropout_rate=0.2,\n",
        "    classifier_activation='softmax',\n",
        "    include_preprocessing=True\n",
        ")"
      ],
      "metadata": {
        "id": "UuEbRTgGe73p",
        "colab": {
          "base_uri": "https://localhost:8080/"
        },
        "outputId": "2051a225-65a8-48c1-e0ec-3b8116b4c12a"
      },
      "execution_count": null,
      "outputs": [
        {
          "output_type": "stream",
          "name": "stdout",
          "text": [
            "Downloading data from https://storage.googleapis.com/tensorflow/keras-applications/mobilenet_v3/weights_mobilenet_v3_small_224_1.0_float_no_top_v2.h5\n",
            "4334752/4334752 [==============================] - 0s 0us/step\n"
          ]
        }
      ]
    },
    {
      "cell_type": "code",
      "source": [
        "MobileNetV3Small.trainable = False"
      ],
      "metadata": {
        "id": "MdJahw3tfPLA"
      },
      "execution_count": null,
      "outputs": []
    },
    {
      "cell_type": "code",
      "source": [
        "MobileNetV3Small.summary()"
      ],
      "metadata": {
        "colab": {
          "base_uri": "https://localhost:8080/"
        },
        "id": "dVPiSZwSbq2B",
        "outputId": "09eb09f0-a7da-48c4-88f0-121b183857a1"
      },
      "execution_count": null,
      "outputs": [
        {
          "output_type": "stream",
          "name": "stdout",
          "text": [
            "Model: \"MobilenetV3small\"\n",
            "__________________________________________________________________________________________________\n",
            " Layer (type)                Output Shape                 Param #   Connected to                  \n",
            "==================================================================================================\n",
            " input_1 (InputLayer)        [(None, 224, 224, 3)]        0         []                            \n",
            "                                                                                                  \n",
            " rescaling (Rescaling)       (None, 224, 224, 3)          0         ['input_1[0][0]']             \n",
            "                                                                                                  \n",
            " Conv (Conv2D)               (None, 112, 112, 16)         432       ['rescaling[0][0]']           \n",
            "                                                                                                  \n",
            " Conv/BatchNorm (BatchNorma  (None, 112, 112, 16)         64        ['Conv[0][0]']                \n",
            " lization)                                                                                        \n",
            "                                                                                                  \n",
            " tf.__operators__.add (TFOp  (None, 112, 112, 16)         0         ['Conv/BatchNorm[0][0]']      \n",
            " Lambda)                                                                                          \n",
            "                                                                                                  \n",
            " re_lu (ReLU)                (None, 112, 112, 16)         0         ['tf.__operators__.add[0][0]']\n",
            "                                                                                                  \n",
            " tf.math.multiply (TFOpLamb  (None, 112, 112, 16)         0         ['re_lu[0][0]']               \n",
            " da)                                                                                              \n",
            "                                                                                                  \n",
            " multiply (Multiply)         (None, 112, 112, 16)         0         ['Conv/BatchNorm[0][0]',      \n",
            "                                                                     'tf.math.multiply[0][0]']    \n",
            "                                                                                                  \n",
            " expanded_conv/depthwise/pa  (None, 113, 113, 16)         0         ['multiply[0][0]']            \n",
            " d (ZeroPadding2D)                                                                                \n",
            "                                                                                                  \n",
            " expanded_conv/depthwise (D  (None, 56, 56, 16)           144       ['expanded_conv/depthwise/pad[\n",
            " epthwiseConv2D)                                                    0][0]']                       \n",
            "                                                                                                  \n",
            " expanded_conv/depthwise/Ba  (None, 56, 56, 16)           64        ['expanded_conv/depthwise[0][0\n",
            " tchNorm (BatchNormalizatio                                         ]']                           \n",
            " n)                                                                                               \n",
            "                                                                                                  \n",
            " re_lu_1 (ReLU)              (None, 56, 56, 16)           0         ['expanded_conv/depthwise/Batc\n",
            "                                                                    hNorm[0][0]']                 \n",
            "                                                                                                  \n",
            " expanded_conv/squeeze_exci  (None, 1, 1, 16)             0         ['re_lu_1[0][0]']             \n",
            " te/AvgPool (GlobalAverageP                                                                       \n",
            " ooling2D)                                                                                        \n",
            "                                                                                                  \n",
            " expanded_conv/squeeze_exci  (None, 1, 1, 8)              136       ['expanded_conv/squeeze_excite\n",
            " te/Conv (Conv2D)                                                   /AvgPool[0][0]']              \n",
            "                                                                                                  \n",
            " expanded_conv/squeeze_exci  (None, 1, 1, 8)              0         ['expanded_conv/squeeze_excite\n",
            " te/Relu (ReLU)                                                     /Conv[0][0]']                 \n",
            "                                                                                                  \n",
            " expanded_conv/squeeze_exci  (None, 1, 1, 16)             144       ['expanded_conv/squeeze_excite\n",
            " te/Conv_1 (Conv2D)                                                 /Relu[0][0]']                 \n",
            "                                                                                                  \n",
            " tf.__operators__.add_1 (TF  (None, 1, 1, 16)             0         ['expanded_conv/squeeze_excite\n",
            " OpLambda)                                                          /Conv_1[0][0]']               \n",
            "                                                                                                  \n",
            " re_lu_2 (ReLU)              (None, 1, 1, 16)             0         ['tf.__operators__.add_1[0][0]\n",
            "                                                                    ']                            \n",
            "                                                                                                  \n",
            " tf.math.multiply_1 (TFOpLa  (None, 1, 1, 16)             0         ['re_lu_2[0][0]']             \n",
            " mbda)                                                                                            \n",
            "                                                                                                  \n",
            " expanded_conv/squeeze_exci  (None, 56, 56, 16)           0         ['re_lu_1[0][0]',             \n",
            " te/Mul (Multiply)                                                   'tf.math.multiply_1[0][0]']  \n",
            "                                                                                                  \n",
            " expanded_conv/project (Con  (None, 56, 56, 16)           256       ['expanded_conv/squeeze_excite\n",
            " v2D)                                                               /Mul[0][0]']                  \n",
            "                                                                                                  \n",
            " expanded_conv/project/Batc  (None, 56, 56, 16)           64        ['expanded_conv/project[0][0]'\n",
            " hNorm (BatchNormalization)                                         ]                             \n",
            "                                                                                                  \n",
            " expanded_conv_1/expand (Co  (None, 56, 56, 72)           1152      ['expanded_conv/project/BatchN\n",
            " nv2D)                                                              orm[0][0]']                   \n",
            "                                                                                                  \n",
            " expanded_conv_1/expand/Bat  (None, 56, 56, 72)           288       ['expanded_conv_1/expand[0][0]\n",
            " chNorm (BatchNormalization                                         ']                            \n",
            " )                                                                                                \n",
            "                                                                                                  \n",
            " re_lu_3 (ReLU)              (None, 56, 56, 72)           0         ['expanded_conv_1/expand/Batch\n",
            "                                                                    Norm[0][0]']                  \n",
            "                                                                                                  \n",
            " expanded_conv_1/depthwise/  (None, 57, 57, 72)           0         ['re_lu_3[0][0]']             \n",
            " pad (ZeroPadding2D)                                                                              \n",
            "                                                                                                  \n",
            " expanded_conv_1/depthwise   (None, 28, 28, 72)           648       ['expanded_conv_1/depthwise/pa\n",
            " (DepthwiseConv2D)                                                  d[0][0]']                     \n",
            "                                                                                                  \n",
            " expanded_conv_1/depthwise/  (None, 28, 28, 72)           288       ['expanded_conv_1/depthwise[0]\n",
            " BatchNorm (BatchNormalizat                                         [0]']                         \n",
            " ion)                                                                                             \n",
            "                                                                                                  \n",
            " re_lu_4 (ReLU)              (None, 28, 28, 72)           0         ['expanded_conv_1/depthwise/Ba\n",
            "                                                                    tchNorm[0][0]']               \n",
            "                                                                                                  \n",
            " expanded_conv_1/project (C  (None, 28, 28, 24)           1728      ['re_lu_4[0][0]']             \n",
            " onv2D)                                                                                           \n",
            "                                                                                                  \n",
            " expanded_conv_1/project/Ba  (None, 28, 28, 24)           96        ['expanded_conv_1/project[0][0\n",
            " tchNorm (BatchNormalizatio                                         ]']                           \n",
            " n)                                                                                               \n",
            "                                                                                                  \n",
            " expanded_conv_2/expand (Co  (None, 28, 28, 88)           2112      ['expanded_conv_1/project/Batc\n",
            " nv2D)                                                              hNorm[0][0]']                 \n",
            "                                                                                                  \n",
            " expanded_conv_2/expand/Bat  (None, 28, 28, 88)           352       ['expanded_conv_2/expand[0][0]\n",
            " chNorm (BatchNormalization                                         ']                            \n",
            " )                                                                                                \n",
            "                                                                                                  \n",
            " re_lu_5 (ReLU)              (None, 28, 28, 88)           0         ['expanded_conv_2/expand/Batch\n",
            "                                                                    Norm[0][0]']                  \n",
            "                                                                                                  \n",
            " expanded_conv_2/depthwise   (None, 28, 28, 88)           792       ['re_lu_5[0][0]']             \n",
            " (DepthwiseConv2D)                                                                                \n",
            "                                                                                                  \n",
            " expanded_conv_2/depthwise/  (None, 28, 28, 88)           352       ['expanded_conv_2/depthwise[0]\n",
            " BatchNorm (BatchNormalizat                                         [0]']                         \n",
            " ion)                                                                                             \n",
            "                                                                                                  \n",
            " re_lu_6 (ReLU)              (None, 28, 28, 88)           0         ['expanded_conv_2/depthwise/Ba\n",
            "                                                                    tchNorm[0][0]']               \n",
            "                                                                                                  \n",
            " expanded_conv_2/project (C  (None, 28, 28, 24)           2112      ['re_lu_6[0][0]']             \n",
            " onv2D)                                                                                           \n",
            "                                                                                                  \n",
            " expanded_conv_2/project/Ba  (None, 28, 28, 24)           96        ['expanded_conv_2/project[0][0\n",
            " tchNorm (BatchNormalizatio                                         ]']                           \n",
            " n)                                                                                               \n",
            "                                                                                                  \n",
            " expanded_conv_2/Add (Add)   (None, 28, 28, 24)           0         ['expanded_conv_1/project/Batc\n",
            "                                                                    hNorm[0][0]',                 \n",
            "                                                                     'expanded_conv_2/project/Batc\n",
            "                                                                    hNorm[0][0]']                 \n",
            "                                                                                                  \n",
            " expanded_conv_3/expand (Co  (None, 28, 28, 96)           2304      ['expanded_conv_2/Add[0][0]'] \n",
            " nv2D)                                                                                            \n",
            "                                                                                                  \n",
            " expanded_conv_3/expand/Bat  (None, 28, 28, 96)           384       ['expanded_conv_3/expand[0][0]\n",
            " chNorm (BatchNormalization                                         ']                            \n",
            " )                                                                                                \n",
            "                                                                                                  \n",
            " tf.__operators__.add_2 (TF  (None, 28, 28, 96)           0         ['expanded_conv_3/expand/Batch\n",
            " OpLambda)                                                          Norm[0][0]']                  \n",
            "                                                                                                  \n",
            " re_lu_7 (ReLU)              (None, 28, 28, 96)           0         ['tf.__operators__.add_2[0][0]\n",
            "                                                                    ']                            \n",
            "                                                                                                  \n",
            " tf.math.multiply_2 (TFOpLa  (None, 28, 28, 96)           0         ['re_lu_7[0][0]']             \n",
            " mbda)                                                                                            \n",
            "                                                                                                  \n",
            " multiply_1 (Multiply)       (None, 28, 28, 96)           0         ['expanded_conv_3/expand/Batch\n",
            "                                                                    Norm[0][0]',                  \n",
            "                                                                     'tf.math.multiply_2[0][0]']  \n",
            "                                                                                                  \n",
            " expanded_conv_3/depthwise/  (None, 31, 31, 96)           0         ['multiply_1[0][0]']          \n",
            " pad (ZeroPadding2D)                                                                              \n",
            "                                                                                                  \n",
            " expanded_conv_3/depthwise   (None, 14, 14, 96)           2400      ['expanded_conv_3/depthwise/pa\n",
            " (DepthwiseConv2D)                                                  d[0][0]']                     \n",
            "                                                                                                  \n",
            " expanded_conv_3/depthwise/  (None, 14, 14, 96)           384       ['expanded_conv_3/depthwise[0]\n",
            " BatchNorm (BatchNormalizat                                         [0]']                         \n",
            " ion)                                                                                             \n",
            "                                                                                                  \n",
            " tf.__operators__.add_3 (TF  (None, 14, 14, 96)           0         ['expanded_conv_3/depthwise/Ba\n",
            " OpLambda)                                                          tchNorm[0][0]']               \n",
            "                                                                                                  \n",
            " re_lu_8 (ReLU)              (None, 14, 14, 96)           0         ['tf.__operators__.add_3[0][0]\n",
            "                                                                    ']                            \n",
            "                                                                                                  \n",
            " tf.math.multiply_3 (TFOpLa  (None, 14, 14, 96)           0         ['re_lu_8[0][0]']             \n",
            " mbda)                                                                                            \n",
            "                                                                                                  \n",
            " multiply_2 (Multiply)       (None, 14, 14, 96)           0         ['expanded_conv_3/depthwise/Ba\n",
            "                                                                    tchNorm[0][0]',               \n",
            "                                                                     'tf.math.multiply_3[0][0]']  \n",
            "                                                                                                  \n",
            " expanded_conv_3/squeeze_ex  (None, 1, 1, 96)             0         ['multiply_2[0][0]']          \n",
            " cite/AvgPool (GlobalAverag                                                                       \n",
            " ePooling2D)                                                                                      \n",
            "                                                                                                  \n",
            " expanded_conv_3/squeeze_ex  (None, 1, 1, 24)             2328      ['expanded_conv_3/squeeze_exci\n",
            " cite/Conv (Conv2D)                                                 te/AvgPool[0][0]']            \n",
            "                                                                                                  \n",
            " expanded_conv_3/squeeze_ex  (None, 1, 1, 24)             0         ['expanded_conv_3/squeeze_exci\n",
            " cite/Relu (ReLU)                                                   te/Conv[0][0]']               \n",
            "                                                                                                  \n",
            " expanded_conv_3/squeeze_ex  (None, 1, 1, 96)             2400      ['expanded_conv_3/squeeze_exci\n",
            " cite/Conv_1 (Conv2D)                                               te/Relu[0][0]']               \n",
            "                                                                                                  \n",
            " tf.__operators__.add_4 (TF  (None, 1, 1, 96)             0         ['expanded_conv_3/squeeze_exci\n",
            " OpLambda)                                                          te/Conv_1[0][0]']             \n",
            "                                                                                                  \n",
            " re_lu_9 (ReLU)              (None, 1, 1, 96)             0         ['tf.__operators__.add_4[0][0]\n",
            "                                                                    ']                            \n",
            "                                                                                                  \n",
            " tf.math.multiply_4 (TFOpLa  (None, 1, 1, 96)             0         ['re_lu_9[0][0]']             \n",
            " mbda)                                                                                            \n",
            "                                                                                                  \n",
            " expanded_conv_3/squeeze_ex  (None, 14, 14, 96)           0         ['multiply_2[0][0]',          \n",
            " cite/Mul (Multiply)                                                 'tf.math.multiply_4[0][0]']  \n",
            "                                                                                                  \n",
            " expanded_conv_3/project (C  (None, 14, 14, 40)           3840      ['expanded_conv_3/squeeze_exci\n",
            " onv2D)                                                             te/Mul[0][0]']                \n",
            "                                                                                                  \n",
            " expanded_conv_3/project/Ba  (None, 14, 14, 40)           160       ['expanded_conv_3/project[0][0\n",
            " tchNorm (BatchNormalizatio                                         ]']                           \n",
            " n)                                                                                               \n",
            "                                                                                                  \n",
            " expanded_conv_4/expand (Co  (None, 14, 14, 240)          9600      ['expanded_conv_3/project/Batc\n",
            " nv2D)                                                              hNorm[0][0]']                 \n",
            "                                                                                                  \n",
            " expanded_conv_4/expand/Bat  (None, 14, 14, 240)          960       ['expanded_conv_4/expand[0][0]\n",
            " chNorm (BatchNormalization                                         ']                            \n",
            " )                                                                                                \n",
            "                                                                                                  \n",
            " tf.__operators__.add_5 (TF  (None, 14, 14, 240)          0         ['expanded_conv_4/expand/Batch\n",
            " OpLambda)                                                          Norm[0][0]']                  \n",
            "                                                                                                  \n",
            " re_lu_10 (ReLU)             (None, 14, 14, 240)          0         ['tf.__operators__.add_5[0][0]\n",
            "                                                                    ']                            \n",
            "                                                                                                  \n",
            " tf.math.multiply_5 (TFOpLa  (None, 14, 14, 240)          0         ['re_lu_10[0][0]']            \n",
            " mbda)                                                                                            \n",
            "                                                                                                  \n",
            " multiply_3 (Multiply)       (None, 14, 14, 240)          0         ['expanded_conv_4/expand/Batch\n",
            "                                                                    Norm[0][0]',                  \n",
            "                                                                     'tf.math.multiply_5[0][0]']  \n",
            "                                                                                                  \n",
            " expanded_conv_4/depthwise   (None, 14, 14, 240)          6000      ['multiply_3[0][0]']          \n",
            " (DepthwiseConv2D)                                                                                \n",
            "                                                                                                  \n",
            " expanded_conv_4/depthwise/  (None, 14, 14, 240)          960       ['expanded_conv_4/depthwise[0]\n",
            " BatchNorm (BatchNormalizat                                         [0]']                         \n",
            " ion)                                                                                             \n",
            "                                                                                                  \n",
            " tf.__operators__.add_6 (TF  (None, 14, 14, 240)          0         ['expanded_conv_4/depthwise/Ba\n",
            " OpLambda)                                                          tchNorm[0][0]']               \n",
            "                                                                                                  \n",
            " re_lu_11 (ReLU)             (None, 14, 14, 240)          0         ['tf.__operators__.add_6[0][0]\n",
            "                                                                    ']                            \n",
            "                                                                                                  \n",
            " tf.math.multiply_6 (TFOpLa  (None, 14, 14, 240)          0         ['re_lu_11[0][0]']            \n",
            " mbda)                                                                                            \n",
            "                                                                                                  \n",
            " multiply_4 (Multiply)       (None, 14, 14, 240)          0         ['expanded_conv_4/depthwise/Ba\n",
            "                                                                    tchNorm[0][0]',               \n",
            "                                                                     'tf.math.multiply_6[0][0]']  \n",
            "                                                                                                  \n",
            " expanded_conv_4/squeeze_ex  (None, 1, 1, 240)            0         ['multiply_4[0][0]']          \n",
            " cite/AvgPool (GlobalAverag                                                                       \n",
            " ePooling2D)                                                                                      \n",
            "                                                                                                  \n",
            " expanded_conv_4/squeeze_ex  (None, 1, 1, 64)             15424     ['expanded_conv_4/squeeze_exci\n",
            " cite/Conv (Conv2D)                                                 te/AvgPool[0][0]']            \n",
            "                                                                                                  \n",
            " expanded_conv_4/squeeze_ex  (None, 1, 1, 64)             0         ['expanded_conv_4/squeeze_exci\n",
            " cite/Relu (ReLU)                                                   te/Conv[0][0]']               \n",
            "                                                                                                  \n",
            " expanded_conv_4/squeeze_ex  (None, 1, 1, 240)            15600     ['expanded_conv_4/squeeze_exci\n",
            " cite/Conv_1 (Conv2D)                                               te/Relu[0][0]']               \n",
            "                                                                                                  \n",
            " tf.__operators__.add_7 (TF  (None, 1, 1, 240)            0         ['expanded_conv_4/squeeze_exci\n",
            " OpLambda)                                                          te/Conv_1[0][0]']             \n",
            "                                                                                                  \n",
            " re_lu_12 (ReLU)             (None, 1, 1, 240)            0         ['tf.__operators__.add_7[0][0]\n",
            "                                                                    ']                            \n",
            "                                                                                                  \n",
            " tf.math.multiply_7 (TFOpLa  (None, 1, 1, 240)            0         ['re_lu_12[0][0]']            \n",
            " mbda)                                                                                            \n",
            "                                                                                                  \n",
            " expanded_conv_4/squeeze_ex  (None, 14, 14, 240)          0         ['multiply_4[0][0]',          \n",
            " cite/Mul (Multiply)                                                 'tf.math.multiply_7[0][0]']  \n",
            "                                                                                                  \n",
            " expanded_conv_4/project (C  (None, 14, 14, 40)           9600      ['expanded_conv_4/squeeze_exci\n",
            " onv2D)                                                             te/Mul[0][0]']                \n",
            "                                                                                                  \n",
            " expanded_conv_4/project/Ba  (None, 14, 14, 40)           160       ['expanded_conv_4/project[0][0\n",
            " tchNorm (BatchNormalizatio                                         ]']                           \n",
            " n)                                                                                               \n",
            "                                                                                                  \n",
            " expanded_conv_4/Add (Add)   (None, 14, 14, 40)           0         ['expanded_conv_3/project/Batc\n",
            "                                                                    hNorm[0][0]',                 \n",
            "                                                                     'expanded_conv_4/project/Batc\n",
            "                                                                    hNorm[0][0]']                 \n",
            "                                                                                                  \n",
            " expanded_conv_5/expand (Co  (None, 14, 14, 240)          9600      ['expanded_conv_4/Add[0][0]'] \n",
            " nv2D)                                                                                            \n",
            "                                                                                                  \n",
            " expanded_conv_5/expand/Bat  (None, 14, 14, 240)          960       ['expanded_conv_5/expand[0][0]\n",
            " chNorm (BatchNormalization                                         ']                            \n",
            " )                                                                                                \n",
            "                                                                                                  \n",
            " tf.__operators__.add_8 (TF  (None, 14, 14, 240)          0         ['expanded_conv_5/expand/Batch\n",
            " OpLambda)                                                          Norm[0][0]']                  \n",
            "                                                                                                  \n",
            " re_lu_13 (ReLU)             (None, 14, 14, 240)          0         ['tf.__operators__.add_8[0][0]\n",
            "                                                                    ']                            \n",
            "                                                                                                  \n",
            " tf.math.multiply_8 (TFOpLa  (None, 14, 14, 240)          0         ['re_lu_13[0][0]']            \n",
            " mbda)                                                                                            \n",
            "                                                                                                  \n",
            " multiply_5 (Multiply)       (None, 14, 14, 240)          0         ['expanded_conv_5/expand/Batch\n",
            "                                                                    Norm[0][0]',                  \n",
            "                                                                     'tf.math.multiply_8[0][0]']  \n",
            "                                                                                                  \n",
            " expanded_conv_5/depthwise   (None, 14, 14, 240)          6000      ['multiply_5[0][0]']          \n",
            " (DepthwiseConv2D)                                                                                \n",
            "                                                                                                  \n",
            " expanded_conv_5/depthwise/  (None, 14, 14, 240)          960       ['expanded_conv_5/depthwise[0]\n",
            " BatchNorm (BatchNormalizat                                         [0]']                         \n",
            " ion)                                                                                             \n",
            "                                                                                                  \n",
            " tf.__operators__.add_9 (TF  (None, 14, 14, 240)          0         ['expanded_conv_5/depthwise/Ba\n",
            " OpLambda)                                                          tchNorm[0][0]']               \n",
            "                                                                                                  \n",
            " re_lu_14 (ReLU)             (None, 14, 14, 240)          0         ['tf.__operators__.add_9[0][0]\n",
            "                                                                    ']                            \n",
            "                                                                                                  \n",
            " tf.math.multiply_9 (TFOpLa  (None, 14, 14, 240)          0         ['re_lu_14[0][0]']            \n",
            " mbda)                                                                                            \n",
            "                                                                                                  \n",
            " multiply_6 (Multiply)       (None, 14, 14, 240)          0         ['expanded_conv_5/depthwise/Ba\n",
            "                                                                    tchNorm[0][0]',               \n",
            "                                                                     'tf.math.multiply_9[0][0]']  \n",
            "                                                                                                  \n",
            " expanded_conv_5/squeeze_ex  (None, 1, 1, 240)            0         ['multiply_6[0][0]']          \n",
            " cite/AvgPool (GlobalAverag                                                                       \n",
            " ePooling2D)                                                                                      \n",
            "                                                                                                  \n",
            " expanded_conv_5/squeeze_ex  (None, 1, 1, 64)             15424     ['expanded_conv_5/squeeze_exci\n",
            " cite/Conv (Conv2D)                                                 te/AvgPool[0][0]']            \n",
            "                                                                                                  \n",
            " expanded_conv_5/squeeze_ex  (None, 1, 1, 64)             0         ['expanded_conv_5/squeeze_exci\n",
            " cite/Relu (ReLU)                                                   te/Conv[0][0]']               \n",
            "                                                                                                  \n",
            " expanded_conv_5/squeeze_ex  (None, 1, 1, 240)            15600     ['expanded_conv_5/squeeze_exci\n",
            " cite/Conv_1 (Conv2D)                                               te/Relu[0][0]']               \n",
            "                                                                                                  \n",
            " tf.__operators__.add_10 (T  (None, 1, 1, 240)            0         ['expanded_conv_5/squeeze_exci\n",
            " FOpLambda)                                                         te/Conv_1[0][0]']             \n",
            "                                                                                                  \n",
            " re_lu_15 (ReLU)             (None, 1, 1, 240)            0         ['tf.__operators__.add_10[0][0\n",
            "                                                                    ]']                           \n",
            "                                                                                                  \n",
            " tf.math.multiply_10 (TFOpL  (None, 1, 1, 240)            0         ['re_lu_15[0][0]']            \n",
            " ambda)                                                                                           \n",
            "                                                                                                  \n",
            " expanded_conv_5/squeeze_ex  (None, 14, 14, 240)          0         ['multiply_6[0][0]',          \n",
            " cite/Mul (Multiply)                                                 'tf.math.multiply_10[0][0]'] \n",
            "                                                                                                  \n",
            " expanded_conv_5/project (C  (None, 14, 14, 40)           9600      ['expanded_conv_5/squeeze_exci\n",
            " onv2D)                                                             te/Mul[0][0]']                \n",
            "                                                                                                  \n",
            " expanded_conv_5/project/Ba  (None, 14, 14, 40)           160       ['expanded_conv_5/project[0][0\n",
            " tchNorm (BatchNormalizatio                                         ]']                           \n",
            " n)                                                                                               \n",
            "                                                                                                  \n",
            " expanded_conv_5/Add (Add)   (None, 14, 14, 40)           0         ['expanded_conv_4/Add[0][0]', \n",
            "                                                                     'expanded_conv_5/project/Batc\n",
            "                                                                    hNorm[0][0]']                 \n",
            "                                                                                                  \n",
            " expanded_conv_6/expand (Co  (None, 14, 14, 120)          4800      ['expanded_conv_5/Add[0][0]'] \n",
            " nv2D)                                                                                            \n",
            "                                                                                                  \n",
            " expanded_conv_6/expand/Bat  (None, 14, 14, 120)          480       ['expanded_conv_6/expand[0][0]\n",
            " chNorm (BatchNormalization                                         ']                            \n",
            " )                                                                                                \n",
            "                                                                                                  \n",
            " tf.__operators__.add_11 (T  (None, 14, 14, 120)          0         ['expanded_conv_6/expand/Batch\n",
            " FOpLambda)                                                         Norm[0][0]']                  \n",
            "                                                                                                  \n",
            " re_lu_16 (ReLU)             (None, 14, 14, 120)          0         ['tf.__operators__.add_11[0][0\n",
            "                                                                    ]']                           \n",
            "                                                                                                  \n",
            " tf.math.multiply_11 (TFOpL  (None, 14, 14, 120)          0         ['re_lu_16[0][0]']            \n",
            " ambda)                                                                                           \n",
            "                                                                                                  \n",
            " multiply_7 (Multiply)       (None, 14, 14, 120)          0         ['expanded_conv_6/expand/Batch\n",
            "                                                                    Norm[0][0]',                  \n",
            "                                                                     'tf.math.multiply_11[0][0]'] \n",
            "                                                                                                  \n",
            " expanded_conv_6/depthwise   (None, 14, 14, 120)          3000      ['multiply_7[0][0]']          \n",
            " (DepthwiseConv2D)                                                                                \n",
            "                                                                                                  \n",
            " expanded_conv_6/depthwise/  (None, 14, 14, 120)          480       ['expanded_conv_6/depthwise[0]\n",
            " BatchNorm (BatchNormalizat                                         [0]']                         \n",
            " ion)                                                                                             \n",
            "                                                                                                  \n",
            " tf.__operators__.add_12 (T  (None, 14, 14, 120)          0         ['expanded_conv_6/depthwise/Ba\n",
            " FOpLambda)                                                         tchNorm[0][0]']               \n",
            "                                                                                                  \n",
            " re_lu_17 (ReLU)             (None, 14, 14, 120)          0         ['tf.__operators__.add_12[0][0\n",
            "                                                                    ]']                           \n",
            "                                                                                                  \n",
            " tf.math.multiply_12 (TFOpL  (None, 14, 14, 120)          0         ['re_lu_17[0][0]']            \n",
            " ambda)                                                                                           \n",
            "                                                                                                  \n",
            " multiply_8 (Multiply)       (None, 14, 14, 120)          0         ['expanded_conv_6/depthwise/Ba\n",
            "                                                                    tchNorm[0][0]',               \n",
            "                                                                     'tf.math.multiply_12[0][0]'] \n",
            "                                                                                                  \n",
            " expanded_conv_6/squeeze_ex  (None, 1, 1, 120)            0         ['multiply_8[0][0]']          \n",
            " cite/AvgPool (GlobalAverag                                                                       \n",
            " ePooling2D)                                                                                      \n",
            "                                                                                                  \n",
            " expanded_conv_6/squeeze_ex  (None, 1, 1, 32)             3872      ['expanded_conv_6/squeeze_exci\n",
            " cite/Conv (Conv2D)                                                 te/AvgPool[0][0]']            \n",
            "                                                                                                  \n",
            " expanded_conv_6/squeeze_ex  (None, 1, 1, 32)             0         ['expanded_conv_6/squeeze_exci\n",
            " cite/Relu (ReLU)                                                   te/Conv[0][0]']               \n",
            "                                                                                                  \n",
            " expanded_conv_6/squeeze_ex  (None, 1, 1, 120)            3960      ['expanded_conv_6/squeeze_exci\n",
            " cite/Conv_1 (Conv2D)                                               te/Relu[0][0]']               \n",
            "                                                                                                  \n",
            " tf.__operators__.add_13 (T  (None, 1, 1, 120)            0         ['expanded_conv_6/squeeze_exci\n",
            " FOpLambda)                                                         te/Conv_1[0][0]']             \n",
            "                                                                                                  \n",
            " re_lu_18 (ReLU)             (None, 1, 1, 120)            0         ['tf.__operators__.add_13[0][0\n",
            "                                                                    ]']                           \n",
            "                                                                                                  \n",
            " tf.math.multiply_13 (TFOpL  (None, 1, 1, 120)            0         ['re_lu_18[0][0]']            \n",
            " ambda)                                                                                           \n",
            "                                                                                                  \n",
            " expanded_conv_6/squeeze_ex  (None, 14, 14, 120)          0         ['multiply_8[0][0]',          \n",
            " cite/Mul (Multiply)                                                 'tf.math.multiply_13[0][0]'] \n",
            "                                                                                                  \n",
            " expanded_conv_6/project (C  (None, 14, 14, 48)           5760      ['expanded_conv_6/squeeze_exci\n",
            " onv2D)                                                             te/Mul[0][0]']                \n",
            "                                                                                                  \n",
            " expanded_conv_6/project/Ba  (None, 14, 14, 48)           192       ['expanded_conv_6/project[0][0\n",
            " tchNorm (BatchNormalizatio                                         ]']                           \n",
            " n)                                                                                               \n",
            "                                                                                                  \n",
            " expanded_conv_7/expand (Co  (None, 14, 14, 144)          6912      ['expanded_conv_6/project/Batc\n",
            " nv2D)                                                              hNorm[0][0]']                 \n",
            "                                                                                                  \n",
            " expanded_conv_7/expand/Bat  (None, 14, 14, 144)          576       ['expanded_conv_7/expand[0][0]\n",
            " chNorm (BatchNormalization                                         ']                            \n",
            " )                                                                                                \n",
            "                                                                                                  \n",
            " tf.__operators__.add_14 (T  (None, 14, 14, 144)          0         ['expanded_conv_7/expand/Batch\n",
            " FOpLambda)                                                         Norm[0][0]']                  \n",
            "                                                                                                  \n",
            " re_lu_19 (ReLU)             (None, 14, 14, 144)          0         ['tf.__operators__.add_14[0][0\n",
            "                                                                    ]']                           \n",
            "                                                                                                  \n",
            " tf.math.multiply_14 (TFOpL  (None, 14, 14, 144)          0         ['re_lu_19[0][0]']            \n",
            " ambda)                                                                                           \n",
            "                                                                                                  \n",
            " multiply_9 (Multiply)       (None, 14, 14, 144)          0         ['expanded_conv_7/expand/Batch\n",
            "                                                                    Norm[0][0]',                  \n",
            "                                                                     'tf.math.multiply_14[0][0]'] \n",
            "                                                                                                  \n",
            " expanded_conv_7/depthwise   (None, 14, 14, 144)          3600      ['multiply_9[0][0]']          \n",
            " (DepthwiseConv2D)                                                                                \n",
            "                                                                                                  \n",
            " expanded_conv_7/depthwise/  (None, 14, 14, 144)          576       ['expanded_conv_7/depthwise[0]\n",
            " BatchNorm (BatchNormalizat                                         [0]']                         \n",
            " ion)                                                                                             \n",
            "                                                                                                  \n",
            " tf.__operators__.add_15 (T  (None, 14, 14, 144)          0         ['expanded_conv_7/depthwise/Ba\n",
            " FOpLambda)                                                         tchNorm[0][0]']               \n",
            "                                                                                                  \n",
            " re_lu_20 (ReLU)             (None, 14, 14, 144)          0         ['tf.__operators__.add_15[0][0\n",
            "                                                                    ]']                           \n",
            "                                                                                                  \n",
            " tf.math.multiply_15 (TFOpL  (None, 14, 14, 144)          0         ['re_lu_20[0][0]']            \n",
            " ambda)                                                                                           \n",
            "                                                                                                  \n",
            " multiply_10 (Multiply)      (None, 14, 14, 144)          0         ['expanded_conv_7/depthwise/Ba\n",
            "                                                                    tchNorm[0][0]',               \n",
            "                                                                     'tf.math.multiply_15[0][0]'] \n",
            "                                                                                                  \n",
            " expanded_conv_7/squeeze_ex  (None, 1, 1, 144)            0         ['multiply_10[0][0]']         \n",
            " cite/AvgPool (GlobalAverag                                                                       \n",
            " ePooling2D)                                                                                      \n",
            "                                                                                                  \n",
            " expanded_conv_7/squeeze_ex  (None, 1, 1, 40)             5800      ['expanded_conv_7/squeeze_exci\n",
            " cite/Conv (Conv2D)                                                 te/AvgPool[0][0]']            \n",
            "                                                                                                  \n",
            " expanded_conv_7/squeeze_ex  (None, 1, 1, 40)             0         ['expanded_conv_7/squeeze_exci\n",
            " cite/Relu (ReLU)                                                   te/Conv[0][0]']               \n",
            "                                                                                                  \n",
            " expanded_conv_7/squeeze_ex  (None, 1, 1, 144)            5904      ['expanded_conv_7/squeeze_exci\n",
            " cite/Conv_1 (Conv2D)                                               te/Relu[0][0]']               \n",
            "                                                                                                  \n",
            " tf.__operators__.add_16 (T  (None, 1, 1, 144)            0         ['expanded_conv_7/squeeze_exci\n",
            " FOpLambda)                                                         te/Conv_1[0][0]']             \n",
            "                                                                                                  \n",
            " re_lu_21 (ReLU)             (None, 1, 1, 144)            0         ['tf.__operators__.add_16[0][0\n",
            "                                                                    ]']                           \n",
            "                                                                                                  \n",
            " tf.math.multiply_16 (TFOpL  (None, 1, 1, 144)            0         ['re_lu_21[0][0]']            \n",
            " ambda)                                                                                           \n",
            "                                                                                                  \n",
            " expanded_conv_7/squeeze_ex  (None, 14, 14, 144)          0         ['multiply_10[0][0]',         \n",
            " cite/Mul (Multiply)                                                 'tf.math.multiply_16[0][0]'] \n",
            "                                                                                                  \n",
            " expanded_conv_7/project (C  (None, 14, 14, 48)           6912      ['expanded_conv_7/squeeze_exci\n",
            " onv2D)                                                             te/Mul[0][0]']                \n",
            "                                                                                                  \n",
            " expanded_conv_7/project/Ba  (None, 14, 14, 48)           192       ['expanded_conv_7/project[0][0\n",
            " tchNorm (BatchNormalizatio                                         ]']                           \n",
            " n)                                                                                               \n",
            "                                                                                                  \n",
            " expanded_conv_7/Add (Add)   (None, 14, 14, 48)           0         ['expanded_conv_6/project/Batc\n",
            "                                                                    hNorm[0][0]',                 \n",
            "                                                                     'expanded_conv_7/project/Batc\n",
            "                                                                    hNorm[0][0]']                 \n",
            "                                                                                                  \n",
            " expanded_conv_8/expand (Co  (None, 14, 14, 288)          13824     ['expanded_conv_7/Add[0][0]'] \n",
            " nv2D)                                                                                            \n",
            "                                                                                                  \n",
            " expanded_conv_8/expand/Bat  (None, 14, 14, 288)          1152      ['expanded_conv_8/expand[0][0]\n",
            " chNorm (BatchNormalization                                         ']                            \n",
            " )                                                                                                \n",
            "                                                                                                  \n",
            " tf.__operators__.add_17 (T  (None, 14, 14, 288)          0         ['expanded_conv_8/expand/Batch\n",
            " FOpLambda)                                                         Norm[0][0]']                  \n",
            "                                                                                                  \n",
            " re_lu_22 (ReLU)             (None, 14, 14, 288)          0         ['tf.__operators__.add_17[0][0\n",
            "                                                                    ]']                           \n",
            "                                                                                                  \n",
            " tf.math.multiply_17 (TFOpL  (None, 14, 14, 288)          0         ['re_lu_22[0][0]']            \n",
            " ambda)                                                                                           \n",
            "                                                                                                  \n",
            " multiply_11 (Multiply)      (None, 14, 14, 288)          0         ['expanded_conv_8/expand/Batch\n",
            "                                                                    Norm[0][0]',                  \n",
            "                                                                     'tf.math.multiply_17[0][0]'] \n",
            "                                                                                                  \n",
            " expanded_conv_8/depthwise/  (None, 17, 17, 288)          0         ['multiply_11[0][0]']         \n",
            " pad (ZeroPadding2D)                                                                              \n",
            "                                                                                                  \n",
            " expanded_conv_8/depthwise   (None, 7, 7, 288)            7200      ['expanded_conv_8/depthwise/pa\n",
            " (DepthwiseConv2D)                                                  d[0][0]']                     \n",
            "                                                                                                  \n",
            " expanded_conv_8/depthwise/  (None, 7, 7, 288)            1152      ['expanded_conv_8/depthwise[0]\n",
            " BatchNorm (BatchNormalizat                                         [0]']                         \n",
            " ion)                                                                                             \n",
            "                                                                                                  \n",
            " tf.__operators__.add_18 (T  (None, 7, 7, 288)            0         ['expanded_conv_8/depthwise/Ba\n",
            " FOpLambda)                                                         tchNorm[0][0]']               \n",
            "                                                                                                  \n",
            " re_lu_23 (ReLU)             (None, 7, 7, 288)            0         ['tf.__operators__.add_18[0][0\n",
            "                                                                    ]']                           \n",
            "                                                                                                  \n",
            " tf.math.multiply_18 (TFOpL  (None, 7, 7, 288)            0         ['re_lu_23[0][0]']            \n",
            " ambda)                                                                                           \n",
            "                                                                                                  \n",
            " multiply_12 (Multiply)      (None, 7, 7, 288)            0         ['expanded_conv_8/depthwise/Ba\n",
            "                                                                    tchNorm[0][0]',               \n",
            "                                                                     'tf.math.multiply_18[0][0]'] \n",
            "                                                                                                  \n",
            " expanded_conv_8/squeeze_ex  (None, 1, 1, 288)            0         ['multiply_12[0][0]']         \n",
            " cite/AvgPool (GlobalAverag                                                                       \n",
            " ePooling2D)                                                                                      \n",
            "                                                                                                  \n",
            " expanded_conv_8/squeeze_ex  (None, 1, 1, 72)             20808     ['expanded_conv_8/squeeze_exci\n",
            " cite/Conv (Conv2D)                                                 te/AvgPool[0][0]']            \n",
            "                                                                                                  \n",
            " expanded_conv_8/squeeze_ex  (None, 1, 1, 72)             0         ['expanded_conv_8/squeeze_exci\n",
            " cite/Relu (ReLU)                                                   te/Conv[0][0]']               \n",
            "                                                                                                  \n",
            " expanded_conv_8/squeeze_ex  (None, 1, 1, 288)            21024     ['expanded_conv_8/squeeze_exci\n",
            " cite/Conv_1 (Conv2D)                                               te/Relu[0][0]']               \n",
            "                                                                                                  \n",
            " tf.__operators__.add_19 (T  (None, 1, 1, 288)            0         ['expanded_conv_8/squeeze_exci\n",
            " FOpLambda)                                                         te/Conv_1[0][0]']             \n",
            "                                                                                                  \n",
            " re_lu_24 (ReLU)             (None, 1, 1, 288)            0         ['tf.__operators__.add_19[0][0\n",
            "                                                                    ]']                           \n",
            "                                                                                                  \n",
            " tf.math.multiply_19 (TFOpL  (None, 1, 1, 288)            0         ['re_lu_24[0][0]']            \n",
            " ambda)                                                                                           \n",
            "                                                                                                  \n",
            " expanded_conv_8/squeeze_ex  (None, 7, 7, 288)            0         ['multiply_12[0][0]',         \n",
            " cite/Mul (Multiply)                                                 'tf.math.multiply_19[0][0]'] \n",
            "                                                                                                  \n",
            " expanded_conv_8/project (C  (None, 7, 7, 96)             27648     ['expanded_conv_8/squeeze_exci\n",
            " onv2D)                                                             te/Mul[0][0]']                \n",
            "                                                                                                  \n",
            " expanded_conv_8/project/Ba  (None, 7, 7, 96)             384       ['expanded_conv_8/project[0][0\n",
            " tchNorm (BatchNormalizatio                                         ]']                           \n",
            " n)                                                                                               \n",
            "                                                                                                  \n",
            " expanded_conv_9/expand (Co  (None, 7, 7, 576)            55296     ['expanded_conv_8/project/Batc\n",
            " nv2D)                                                              hNorm[0][0]']                 \n",
            "                                                                                                  \n",
            " expanded_conv_9/expand/Bat  (None, 7, 7, 576)            2304      ['expanded_conv_9/expand[0][0]\n",
            " chNorm (BatchNormalization                                         ']                            \n",
            " )                                                                                                \n",
            "                                                                                                  \n",
            " tf.__operators__.add_20 (T  (None, 7, 7, 576)            0         ['expanded_conv_9/expand/Batch\n",
            " FOpLambda)                                                         Norm[0][0]']                  \n",
            "                                                                                                  \n",
            " re_lu_25 (ReLU)             (None, 7, 7, 576)            0         ['tf.__operators__.add_20[0][0\n",
            "                                                                    ]']                           \n",
            "                                                                                                  \n",
            " tf.math.multiply_20 (TFOpL  (None, 7, 7, 576)            0         ['re_lu_25[0][0]']            \n",
            " ambda)                                                                                           \n",
            "                                                                                                  \n",
            " multiply_13 (Multiply)      (None, 7, 7, 576)            0         ['expanded_conv_9/expand/Batch\n",
            "                                                                    Norm[0][0]',                  \n",
            "                                                                     'tf.math.multiply_20[0][0]'] \n",
            "                                                                                                  \n",
            " expanded_conv_9/depthwise   (None, 7, 7, 576)            14400     ['multiply_13[0][0]']         \n",
            " (DepthwiseConv2D)                                                                                \n",
            "                                                                                                  \n",
            " expanded_conv_9/depthwise/  (None, 7, 7, 576)            2304      ['expanded_conv_9/depthwise[0]\n",
            " BatchNorm (BatchNormalizat                                         [0]']                         \n",
            " ion)                                                                                             \n",
            "                                                                                                  \n",
            " tf.__operators__.add_21 (T  (None, 7, 7, 576)            0         ['expanded_conv_9/depthwise/Ba\n",
            " FOpLambda)                                                         tchNorm[0][0]']               \n",
            "                                                                                                  \n",
            " re_lu_26 (ReLU)             (None, 7, 7, 576)            0         ['tf.__operators__.add_21[0][0\n",
            "                                                                    ]']                           \n",
            "                                                                                                  \n",
            " tf.math.multiply_21 (TFOpL  (None, 7, 7, 576)            0         ['re_lu_26[0][0]']            \n",
            " ambda)                                                                                           \n",
            "                                                                                                  \n",
            " multiply_14 (Multiply)      (None, 7, 7, 576)            0         ['expanded_conv_9/depthwise/Ba\n",
            "                                                                    tchNorm[0][0]',               \n",
            "                                                                     'tf.math.multiply_21[0][0]'] \n",
            "                                                                                                  \n",
            " expanded_conv_9/squeeze_ex  (None, 1, 1, 576)            0         ['multiply_14[0][0]']         \n",
            " cite/AvgPool (GlobalAverag                                                                       \n",
            " ePooling2D)                                                                                      \n",
            "                                                                                                  \n",
            " expanded_conv_9/squeeze_ex  (None, 1, 1, 144)            83088     ['expanded_conv_9/squeeze_exci\n",
            " cite/Conv (Conv2D)                                                 te/AvgPool[0][0]']            \n",
            "                                                                                                  \n",
            " expanded_conv_9/squeeze_ex  (None, 1, 1, 144)            0         ['expanded_conv_9/squeeze_exci\n",
            " cite/Relu (ReLU)                                                   te/Conv[0][0]']               \n",
            "                                                                                                  \n",
            " expanded_conv_9/squeeze_ex  (None, 1, 1, 576)            83520     ['expanded_conv_9/squeeze_exci\n",
            " cite/Conv_1 (Conv2D)                                               te/Relu[0][0]']               \n",
            "                                                                                                  \n",
            " tf.__operators__.add_22 (T  (None, 1, 1, 576)            0         ['expanded_conv_9/squeeze_exci\n",
            " FOpLambda)                                                         te/Conv_1[0][0]']             \n",
            "                                                                                                  \n",
            " re_lu_27 (ReLU)             (None, 1, 1, 576)            0         ['tf.__operators__.add_22[0][0\n",
            "                                                                    ]']                           \n",
            "                                                                                                  \n",
            " tf.math.multiply_22 (TFOpL  (None, 1, 1, 576)            0         ['re_lu_27[0][0]']            \n",
            " ambda)                                                                                           \n",
            "                                                                                                  \n",
            " expanded_conv_9/squeeze_ex  (None, 7, 7, 576)            0         ['multiply_14[0][0]',         \n",
            " cite/Mul (Multiply)                                                 'tf.math.multiply_22[0][0]'] \n",
            "                                                                                                  \n",
            " expanded_conv_9/project (C  (None, 7, 7, 96)             55296     ['expanded_conv_9/squeeze_exci\n",
            " onv2D)                                                             te/Mul[0][0]']                \n",
            "                                                                                                  \n",
            " expanded_conv_9/project/Ba  (None, 7, 7, 96)             384       ['expanded_conv_9/project[0][0\n",
            " tchNorm (BatchNormalizatio                                         ]']                           \n",
            " n)                                                                                               \n",
            "                                                                                                  \n",
            " expanded_conv_9/Add (Add)   (None, 7, 7, 96)             0         ['expanded_conv_8/project/Batc\n",
            "                                                                    hNorm[0][0]',                 \n",
            "                                                                     'expanded_conv_9/project/Batc\n",
            "                                                                    hNorm[0][0]']                 \n",
            "                                                                                                  \n",
            " expanded_conv_10/expand (C  (None, 7, 7, 576)            55296     ['expanded_conv_9/Add[0][0]'] \n",
            " onv2D)                                                                                           \n",
            "                                                                                                  \n",
            " expanded_conv_10/expand/Ba  (None, 7, 7, 576)            2304      ['expanded_conv_10/expand[0][0\n",
            " tchNorm (BatchNormalizatio                                         ]']                           \n",
            " n)                                                                                               \n",
            "                                                                                                  \n",
            " tf.__operators__.add_23 (T  (None, 7, 7, 576)            0         ['expanded_conv_10/expand/Batc\n",
            " FOpLambda)                                                         hNorm[0][0]']                 \n",
            "                                                                                                  \n",
            " re_lu_28 (ReLU)             (None, 7, 7, 576)            0         ['tf.__operators__.add_23[0][0\n",
            "                                                                    ]']                           \n",
            "                                                                                                  \n",
            " tf.math.multiply_23 (TFOpL  (None, 7, 7, 576)            0         ['re_lu_28[0][0]']            \n",
            " ambda)                                                                                           \n",
            "                                                                                                  \n",
            " multiply_15 (Multiply)      (None, 7, 7, 576)            0         ['expanded_conv_10/expand/Batc\n",
            "                                                                    hNorm[0][0]',                 \n",
            "                                                                     'tf.math.multiply_23[0][0]'] \n",
            "                                                                                                  \n",
            " expanded_conv_10/depthwise  (None, 7, 7, 576)            14400     ['multiply_15[0][0]']         \n",
            "  (DepthwiseConv2D)                                                                               \n",
            "                                                                                                  \n",
            " expanded_conv_10/depthwise  (None, 7, 7, 576)            2304      ['expanded_conv_10/depthwise[0\n",
            " /BatchNorm (BatchNormaliza                                         ][0]']                        \n",
            " tion)                                                                                            \n",
            "                                                                                                  \n",
            " tf.__operators__.add_24 (T  (None, 7, 7, 576)            0         ['expanded_conv_10/depthwise/B\n",
            " FOpLambda)                                                         atchNorm[0][0]']              \n",
            "                                                                                                  \n",
            " re_lu_29 (ReLU)             (None, 7, 7, 576)            0         ['tf.__operators__.add_24[0][0\n",
            "                                                                    ]']                           \n",
            "                                                                                                  \n",
            " tf.math.multiply_24 (TFOpL  (None, 7, 7, 576)            0         ['re_lu_29[0][0]']            \n",
            " ambda)                                                                                           \n",
            "                                                                                                  \n",
            " multiply_16 (Multiply)      (None, 7, 7, 576)            0         ['expanded_conv_10/depthwise/B\n",
            "                                                                    atchNorm[0][0]',              \n",
            "                                                                     'tf.math.multiply_24[0][0]'] \n",
            "                                                                                                  \n",
            " expanded_conv_10/squeeze_e  (None, 1, 1, 576)            0         ['multiply_16[0][0]']         \n",
            " xcite/AvgPool (GlobalAvera                                                                       \n",
            " gePooling2D)                                                                                     \n",
            "                                                                                                  \n",
            " expanded_conv_10/squeeze_e  (None, 1, 1, 144)            83088     ['expanded_conv_10/squeeze_exc\n",
            " xcite/Conv (Conv2D)                                                ite/AvgPool[0][0]']           \n",
            "                                                                                                  \n",
            " expanded_conv_10/squeeze_e  (None, 1, 1, 144)            0         ['expanded_conv_10/squeeze_exc\n",
            " xcite/Relu (ReLU)                                                  ite/Conv[0][0]']              \n",
            "                                                                                                  \n",
            " expanded_conv_10/squeeze_e  (None, 1, 1, 576)            83520     ['expanded_conv_10/squeeze_exc\n",
            " xcite/Conv_1 (Conv2D)                                              ite/Relu[0][0]']              \n",
            "                                                                                                  \n",
            " tf.__operators__.add_25 (T  (None, 1, 1, 576)            0         ['expanded_conv_10/squeeze_exc\n",
            " FOpLambda)                                                         ite/Conv_1[0][0]']            \n",
            "                                                                                                  \n",
            " re_lu_30 (ReLU)             (None, 1, 1, 576)            0         ['tf.__operators__.add_25[0][0\n",
            "                                                                    ]']                           \n",
            "                                                                                                  \n",
            " tf.math.multiply_25 (TFOpL  (None, 1, 1, 576)            0         ['re_lu_30[0][0]']            \n",
            " ambda)                                                                                           \n",
            "                                                                                                  \n",
            " expanded_conv_10/squeeze_e  (None, 7, 7, 576)            0         ['multiply_16[0][0]',         \n",
            " xcite/Mul (Multiply)                                                'tf.math.multiply_25[0][0]'] \n",
            "                                                                                                  \n",
            " expanded_conv_10/project (  (None, 7, 7, 96)             55296     ['expanded_conv_10/squeeze_exc\n",
            " Conv2D)                                                            ite/Mul[0][0]']               \n",
            "                                                                                                  \n",
            " expanded_conv_10/project/B  (None, 7, 7, 96)             384       ['expanded_conv_10/project[0][\n",
            " atchNorm (BatchNormalizati                                         0]']                          \n",
            " on)                                                                                              \n",
            "                                                                                                  \n",
            " expanded_conv_10/Add (Add)  (None, 7, 7, 96)             0         ['expanded_conv_9/Add[0][0]', \n",
            "                                                                     'expanded_conv_10/project/Bat\n",
            "                                                                    chNorm[0][0]']                \n",
            "                                                                                                  \n",
            " Conv_1 (Conv2D)             (None, 7, 7, 576)            55296     ['expanded_conv_10/Add[0][0]']\n",
            "                                                                                                  \n",
            " Conv_1/BatchNorm (BatchNor  (None, 7, 7, 576)            2304      ['Conv_1[0][0]']              \n",
            " malization)                                                                                      \n",
            "                                                                                                  \n",
            " tf.__operators__.add_26 (T  (None, 7, 7, 576)            0         ['Conv_1/BatchNorm[0][0]']    \n",
            " FOpLambda)                                                                                       \n",
            "                                                                                                  \n",
            " re_lu_31 (ReLU)             (None, 7, 7, 576)            0         ['tf.__operators__.add_26[0][0\n",
            "                                                                    ]']                           \n",
            "                                                                                                  \n",
            " tf.math.multiply_26 (TFOpL  (None, 7, 7, 576)            0         ['re_lu_31[0][0]']            \n",
            " ambda)                                                                                           \n",
            "                                                                                                  \n",
            " multiply_17 (Multiply)      (None, 7, 7, 576)            0         ['Conv_1/BatchNorm[0][0]',    \n",
            "                                                                     'tf.math.multiply_26[0][0]'] \n",
            "                                                                                                  \n",
            "==================================================================================================\n",
            "Total params: 939120 (3.58 MB)\n",
            "Trainable params: 0 (0.00 Byte)\n",
            "Non-trainable params: 939120 (3.58 MB)\n",
            "__________________________________________________________________________________________________\n"
          ]
        }
      ]
    },
    {
      "cell_type": "markdown",
      "source": [
        "## Model"
      ],
      "metadata": {
        "id": "AV5f_8Q-fbk-"
      }
    },
    {
      "cell_type": "code",
      "source": [
        "model_MobileNetV3Small = tf.keras.Sequential([\n",
        "  data_preprocess,\n",
        "  MobileNetV3Small,\n",
        "  tf.keras.layers.Flatten(),\n",
        "  tf.keras.layers.Dense(128, activation='relu'),\n",
        "  tf.keras.layers.Dropout(0.5),\n",
        "  tf.keras.layers.Dense(9, activation='softmax')\n",
        "])"
      ],
      "metadata": {
        "id": "kWESnAepfQmG"
      },
      "execution_count": null,
      "outputs": []
    },
    {
      "cell_type": "code",
      "source": [
        "# tf.keras.utils.plot_model(model_mobilenetv2, show_shapes=True)"
      ],
      "metadata": {
        "id": "rdHFzZ6dfR80"
      },
      "execution_count": null,
      "outputs": []
    },
    {
      "cell_type": "markdown",
      "source": [
        "## Compile"
      ],
      "metadata": {
        "id": "uFidyD9jfeTr"
      }
    },
    {
      "cell_type": "code",
      "source": [
        "optimizer = tf.keras.optimizers.Adam(learning_rate=base_learning_rate)\n",
        "loss = tf.keras.losses.SparseCategoricalCrossentropy()\n",
        "metrics = tf.keras.metrics.SparseTopKCategoricalAccuracy(name='accuracy')"
      ],
      "metadata": {
        "id": "sqLpubcgfTsb"
      },
      "execution_count": null,
      "outputs": []
    },
    {
      "cell_type": "code",
      "source": [
        "model_MobileNetV3Small.compile(optimizer=optimizer,\n",
        "              loss=loss,\n",
        "              metrics=metrics)"
      ],
      "metadata": {
        "id": "KPyfbODtfVLJ"
      },
      "execution_count": null,
      "outputs": []
    },
    {
      "cell_type": "markdown",
      "source": [
        "## Train"
      ],
      "metadata": {
        "id": "wlOEficefjCW"
      }
    },
    {
      "cell_type": "code",
      "source": [
        "history_MobileNetV3Small = model_MobileNetV3Small.fit(train_dataset,\n",
        "                    epochs=initial_epochs,\n",
        "                    validation_data=val_dataset,\n",
        "                    callbacks=[early_stopping])"
      ],
      "metadata": {
        "colab": {
          "base_uri": "https://localhost:8080/"
        },
        "id": "KrF1voe4fkG9",
        "outputId": "18b6e0b3-1324-410d-d5ff-47bd5f614cc4"
      },
      "execution_count": null,
      "outputs": [
        {
          "output_type": "stream",
          "name": "stdout",
          "text": [
            "Epoch 1/10\n",
            "36/36 [==============================] - 46s 818ms/step - loss: 2.6579 - accuracy: 0.7734 - val_loss: 1.3343 - val_accuracy: 0.9375\n",
            "Epoch 2/10\n",
            "36/36 [==============================] - 5s 120ms/step - loss: 1.4719 - accuracy: 0.9062 - val_loss: 0.8682 - val_accuracy: 0.9653\n",
            "Epoch 3/10\n",
            "36/36 [==============================] - 5s 125ms/step - loss: 1.2502 - accuracy: 0.9332 - val_loss: 0.6436 - val_accuracy: 0.9826\n",
            "Epoch 4/10\n",
            "36/36 [==============================] - 5s 125ms/step - loss: 1.0072 - accuracy: 0.9505 - val_loss: 0.5245 - val_accuracy: 0.9931\n",
            "Epoch 5/10\n",
            "36/36 [==============================] - 5s 123ms/step - loss: 0.8317 - accuracy: 0.9688 - val_loss: 0.4491 - val_accuracy: 0.9931\n",
            "Epoch 6/10\n",
            "36/36 [==============================] - 5s 129ms/step - loss: 0.7937 - accuracy: 0.9783 - val_loss: 0.4156 - val_accuracy: 0.9965\n",
            "Epoch 7/10\n",
            "36/36 [==============================] - 5s 122ms/step - loss: 0.7200 - accuracy: 0.9748 - val_loss: 0.3616 - val_accuracy: 0.9965\n",
            "Epoch 8/10\n",
            "36/36 [==============================] - 5s 122ms/step - loss: 0.6333 - accuracy: 0.9818 - val_loss: 0.3504 - val_accuracy: 1.0000\n",
            "Epoch 9/10\n",
            "36/36 [==============================] - 5s 122ms/step - loss: 0.5610 - accuracy: 0.9844 - val_loss: 0.3453 - val_accuracy: 0.9931\n",
            "Epoch 10/10\n",
            "36/36 [==============================] - 5s 123ms/step - loss: 0.5670 - accuracy: 0.9887 - val_loss: 0.3293 - val_accuracy: 1.0000\n"
          ]
        }
      ]
    },
    {
      "cell_type": "markdown",
      "source": [
        "## Test"
      ],
      "metadata": {
        "id": "N2EZxO0CflqR"
      }
    },
    {
      "cell_type": "code",
      "source": [
        "model_MobileNetV3Small.evaluate(test_dataset)"
      ],
      "metadata": {
        "colab": {
          "base_uri": "https://localhost:8080/"
        },
        "id": "wtVzxv13fmmf",
        "outputId": "8686bc1c-21e8-4ca7-9c4d-dfc6dd5633f5"
      },
      "execution_count": null,
      "outputs": [
        {
          "output_type": "stream",
          "name": "stdout",
          "text": [
            "12/12 [==============================] - 12s 270ms/step - loss: 0.4184 - accuracy: 0.9944\n"
          ]
        },
        {
          "output_type": "execute_result",
          "data": {
            "text/plain": [
              "[0.41840845346450806, 0.9944444298744202]"
            ]
          },
          "metadata": {},
          "execution_count": 17
        }
      ]
    },
    {
      "cell_type": "markdown",
      "source": [
        "## Graph"
      ],
      "metadata": {
        "id": "xZbyXnuwfoba"
      }
    },
    {
      "cell_type": "code",
      "source": [
        "acc = history_MobileNetV3Small.history['accuracy']\n",
        "val_acc = history_MobileNetV3Small.history['val_accuracy']\n",
        "\n",
        "loss = history_MobileNetV3Small.history['loss']\n",
        "val_loss = history_MobileNetV3Small.history['val_loss']\n",
        "\n",
        "plt.figure(figsize=(8, 8))\n",
        "plt.subplot(2, 1, 1)\n",
        "plt.plot(acc, label='Training Accuracy')\n",
        "plt.plot(val_acc, label='Validation Accuracy')\n",
        "plt.legend(loc='lower right')\n",
        "plt.ylabel('Accuracy')\n",
        "plt.ylim([min(plt.ylim()),1])\n",
        "plt.title('Training and Validation Accuracy MobileNetV3Small')\n",
        "\n",
        "plt.subplot(2, 1, 2)\n",
        "plt.plot(loss, label='Training Loss')\n",
        "plt.plot(val_loss, label='Validation Loss')\n",
        "plt.legend(loc='upper right')\n",
        "plt.ylabel('Cross Entropy')\n",
        "plt.title('Training and Validation Loss MobileNetV3Small')\n",
        "plt.xlabel('epoch')\n",
        "\n",
        "plt.savefig(f'/content/drive/MyDrive/Mahesa/MobileNetV3/Graph/MobileNetV3Small-82_Accuracy_{now}.png')\n",
        "plt.show()"
      ],
      "metadata": {
        "id": "QA2Obfu-fp1T",
        "colab": {
          "base_uri": "https://localhost:8080/",
          "height": 718
        },
        "outputId": "8e2e6f4e-0a09-46d8-d839-4f68831dd923"
      },
      "execution_count": null,
      "outputs": [
        {
          "output_type": "display_data",
          "data": {
            "text/plain": [
              "<Figure size 800x800 with 2 Axes>"
            ],
            "image/png": "[encoded data removed]"
          },
          "metadata": {}
        }
      ]
    },
    {
      "cell_type": "markdown",
      "source": [
        "## Matrix"
      ],
      "metadata": {
        "id": "NTatFlxOfrqG"
      }
    },
    {
      "cell_type": "code",
      "source": [
        "class_labels = ['Dadar Gulung',\n",
        "                'Grontol',\n",
        "                'Klepon',\n",
        "                'Kue Lapis',\n",
        "                'Kue Lumpur',\n",
        "                'Lumpia',\n",
        "                'Putu Ayu',\n",
        "                'Serabi',\n",
        "                'Wajik']"
      ],
      "metadata": {
        "id": "0faDzm0ffs9M"
      },
      "execution_count": null,
      "outputs": []
    },
    {
      "cell_type": "code",
      "source": [
        "y_test = []\n",
        "y_pred = []\n",
        "\n",
        "\n",
        "for image, label in test_dataset:\n",
        "  y_pred = y_pred + model_MobileNetV3Small.predict(image).argmax(axis=1).tolist()\n",
        "  y_test = y_test + label.numpy().tolist()"
      ],
      "metadata": {
        "colab": {
          "base_uri": "https://localhost:8080/"
        },
        "id": "S3-N6LFUf87I",
        "outputId": "ca97a1f2-423c-4f49-8d82-f838bcc9ce32"
      },
      "execution_count": null,
      "outputs": [
        {
          "output_type": "stream",
          "name": "stdout",
          "text": [
            "1/1 [==============================] - 1s 897ms/step\n",
            "1/1 [==============================] - 0s 34ms/step\n",
            "1/1 [==============================] - 0s 36ms/step\n",
            "1/1 [==============================] - 0s 34ms/step\n",
            "1/1 [==============================] - 0s 34ms/step\n",
            "1/1 [==============================] - 0s 34ms/step\n",
            "1/1 [==============================] - 0s 32ms/step\n",
            "1/1 [==============================] - 0s 39ms/step\n",
            "1/1 [==============================] - 0s 33ms/step\n",
            "1/1 [==============================] - 0s 39ms/step\n",
            "1/1 [==============================] - 0s 34ms/step\n",
            "1/1 [==============================] - 1s 934ms/step\n"
          ]
        }
      ]
    },
    {
      "cell_type": "code",
      "source": [
        "# print(y_test[:10])\n",
        "# print(y_pred[:10])"
      ],
      "metadata": {
        "id": "UIdk8yvCf_KO"
      },
      "execution_count": null,
      "outputs": []
    },
    {
      "cell_type": "code",
      "source": [
        "cm = confusion_matrix(y_test, y_pred)\n",
        "disp = ConfusionMatrixDisplay(confusion_matrix=cm, display_labels=test_dataset.class_names)\n",
        "\n",
        "disp.plot(xticks_rotation=45)\n",
        "plt.title('Confusion Matrix MobileNetV3Small')\n",
        "plt.savefig(f'/content/drive/MyDrive/Mahesa/MobileNetV3/Graph/MobileNetV3Small-82_Matrix_{now}.png')\n",
        "plt.show()"
      ],
      "metadata": {
        "colab": {
          "base_uri": "https://localhost:8080/",
          "height": 536
        },
        "id": "5FjA7e82gBE-",
        "outputId": "37418498-8546-488b-e4c0-2b1501e72f20"
      },
      "execution_count": null,
      "outputs": [
        {
          "output_type": "display_data",
          "data": {
            "text/plain": [
              "<Figure size 640x480 with 2 Axes>"
            ],
            "image/png": "[encoded data removed]"
          },
          "metadata": {}
        }
      ]
    },
    {
      "cell_type": "code",
      "source": [
        "# Menampilkan classification report\n",
        "report = classification_report(y_test, y_pred, target_names=test_dataset.class_names)\n",
        "print('Classification Report MobileNetV3Small')\n",
        "print(report)\n",
        "\n",
        "# Menyimpan classification report ke dalam file teks\n",
        "with open(f'/content/drive/MyDrive/Mahesa/MobileNetV3/Graph/MobileNetV3Small-82_Report_{now}.txt', 'w') as f:\n",
        "    f.write('Classification Report MobileNetV3Small\\n')\n",
        "    f.write(report)"
      ],
      "metadata": {
        "colab": {
          "base_uri": "https://localhost:8080/"
        },
        "id": "gRw-ejrrcnv9",
        "outputId": "611494c4-5ddc-4cc9-93f1-68ea32f9b034"
      },
      "execution_count": null,
      "outputs": [
        {
          "output_type": "stream",
          "name": "stdout",
          "text": [
            "Classification Report MobileNetV3Small\n",
            "              precision    recall  f1-score   support\n",
            "\n",
            "Dadar Gulung       0.71      0.85      0.77        40\n",
            "     Grontol       0.97      0.90      0.94        40\n",
            "      Klepon       0.84      0.95      0.89        40\n",
            "   Kue Lapis       0.94      0.85      0.89        40\n",
            "  Kue Lumpur       0.93      0.93      0.93        40\n",
            "      Lumpia       0.89      0.97      0.93        40\n",
            "    Putu Ayu       0.86      0.90      0.88        40\n",
            "      Serabi       0.89      0.78      0.83        40\n",
            "       Wajik       0.94      0.78      0.85        40\n",
            "\n",
            "    accuracy                           0.88       360\n",
            "   macro avg       0.88      0.88      0.88       360\n",
            "weighted avg       0.88      0.88      0.88       360\n",
            "\n"
          ]
        }
      ]
    },
    {
      "cell_type": "markdown",
      "source": [
        "## Save Model"
      ],
      "metadata": {
        "id": "Uum9fsCigIRa"
      }
    },
    {
      "cell_type": "code",
      "source": [
        "model_MobileNetV3Small.save('/content/drive/MyDrive/Mahesa/MobileNetV3/model_MobileNetV3Small-82_v2.h5')  # Or any other desired filename\n",
        "\n",
        "print(\"Model saved successfully!\")"
      ],
      "metadata": {
        "id": "71tY0hqFgJxG",
        "colab": {
          "base_uri": "https://localhost:8080/"
        },
        "outputId": "860f1061-d300-4329-9d42-b4a6b3eb852c"
      },
      "execution_count": null,
      "outputs": [
        {
          "output_type": "stream",
          "name": "stderr",
          "text": [
            "/usr/local/lib/python3.10/dist-packages/keras/src/engine/training.py:3103: UserWarning: You are saving your model as an HDF5 file via `model.save()`. This file format is considered legacy. We recommend using instead the native Keras format, e.g. `model.save('my_model.keras')`.\n",
            "  saving_api.save_model(\n"
          ]
        },
        {
          "output_type": "stream",
          "name": "stdout",
          "text": [
            "Model saved successfully!\n"
          ]
        }
      ]
    },
    {
      "cell_type": "code",
      "source": [
        "saved_model_dir = '/content/drive/MyDrive/Mahesa/MobileNetV3/model_MobileNetV3Small-82_v2.h5'\n",
        "model = tf.keras.models.load_model(saved_model_dir)\n",
        "\n",
        "converter = tf.lite.TFLiteConverter.from_keras_model(model)\n",
        "tflite_model = converter.convert()\n",
        "\n",
        "with open('/content/drive/MyDrive/Mahesa/MobileNetV3/model_MobileNetV3Small-82_v2.tflite', 'wb') as f:\n",
        "  f.write(tflite_model)\n",
        "\n",
        "print(\"TFLite model saved successfully!\")"
      ],
      "metadata": {
        "id": "lJNRv0HOgLTb",
        "colab": {
          "base_uri": "https://localhost:8080/"
        },
        "outputId": "a96ce0fc-4d49-4832-bb40-2b469e95dfe0"
      },
      "execution_count": null,
      "outputs": [
        {
          "output_type": "stream",
          "name": "stdout",
          "text": [
            "TFLite model saved successfully!\n"
          ]
        }
      ]
    }
  ]
}